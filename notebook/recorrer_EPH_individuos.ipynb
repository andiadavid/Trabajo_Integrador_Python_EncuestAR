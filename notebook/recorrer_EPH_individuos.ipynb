{
 "cells": [
  {
   "cell_type": "markdown",
   "id": "d7d4a614",
   "metadata": {},
   "source": [
    "# PARTE A: generación del dataset principal\n",
    "## Información individuos\n",
    "### Grupo  13\n"
   ]
  },
  {
   "cell_type": "markdown",
   "id": "ad2147aa",
   "metadata": {},
   "source": [
    "Importación de librerías necesarias "
   ]
  },
  {
   "cell_type": "code",
   "execution_count": 1,
   "id": "226aebcb",
   "metadata": {},
   "outputs": [],
   "source": [
    "import sys\n",
    "import csv"
   ]
  },
  {
   "cell_type": "markdown",
   "id": "557036c5",
   "metadata": {},
   "source": [
    "Importación de rutas "
   ]
  },
  {
   "cell_type": "code",
   "execution_count": 2,
   "id": "536a7a46",
   "metadata": {},
   "outputs": [],
   "source": [
    "\n",
    "sys.path.append(\"..\")\n",
    "from src.utils.constantes import FILES_PATH, DATA_OUT_PATH\n",
    "  "
   ]
  },
  {
   "cell_type": "markdown",
   "id": "c5fc694f",
   "metadata": {},
   "source": [
    "Importaciones de funciones necesarias para el procesamiento del dataset"
   ]
  },
  {
   "cell_type": "code",
   "execution_count": 3,
   "id": "53a93e49",
   "metadata": {},
   "outputs": [],
   "source": [
    "\n",
    "from src.utils.procesamiento_dataset import convertir_ch04_a_str_genero, convertir_NIVEL_ED_a_str, transformar_condicion_laboral,generar_mayores_con_titulo\n"
   ]
  },
  {
   "cell_type": "markdown",
   "id": "9be8081c",
   "metadata": {},
   "source": [
    "**Creación de un dataset de individuos a partir de la información disponible**. \n",
    "\n",
    "Este dataset contiene además columnas con formato texto que permiten una lectura más clara de los datos. \n",
    "\n",
    "•\t**CH04_str**: indica si el sexo de la persona es masculino o femenino, transformando los códigos de la variable CH_04 en el texto correspondiente. \n",
    "\n",
    "•\t**NIVEL_ED_str**: indica en formato texto el nivel educativo, transformando y agrupando los códigos de la variable NIVEL_ED. \n",
    "\n",
    "•\t**CONDICION_LABORAL**: indica en formato texto la condición laboral a través de la transformación de los códigos contenidos en las variables ESTADO y CAT_OCUP. \n",
    "\n",
    "Por otra parte, se crea la variable numérica **UNIVERSITARIO** que indica si una persona mayor de edad ha completado el como mínimo el nivel universitario (1: Sí, 0: No, 2: no aplica).\n",
    "\n"
   ]
  },
  {
   "cell_type": "code",
   "execution_count": null,
   "id": "dacb459a",
   "metadata": {},
   "outputs": [
    {
     "name": "stdout",
     "output_type": "stream",
     "text": [
      "Procesado archivo: /home/laptop-ubuntu/python/nuevo_encuestAR/code/notebook/../files/usu_individual_T321.txt.txt\n",
      "Procesado archivo: /home/laptop-ubuntu/python/nuevo_encuestAR/code/notebook/../files/usu_individual_T422.txt.txt\n",
      "Procesado archivo: /home/laptop-ubuntu/python/nuevo_encuestAR/code/notebook/../files/usu_individual_T222.txt.txt\n",
      "Procesado archivo: /home/laptop-ubuntu/python/nuevo_encuestAR/code/notebook/../files/usu_individual_T322.txt.txt\n",
      "Procesado archivo: /home/laptop-ubuntu/python/nuevo_encuestAR/code/notebook/../files/usu_individual_T221.txt\n",
      "Procesado archivo: /home/laptop-ubuntu/python/nuevo_encuestAR/code/notebook/../files/usu_individual_T122.txt.txt\n",
      "Procesado archivo: /home/laptop-ubuntu/python/nuevo_encuestAR/code/notebook/../files/usu_individual_T421.txt\n",
      "Procesado archivo: /home/laptop-ubuntu/python/nuevo_encuestAR/code/notebook/../files/usu_individual_T121.txt\n",
      "Datos guardados en: /home/laptop-ubuntu/python/nuevo_encuestAR/code/notebook/../data_out/salida_individuos.csv\n"
     ]
    }
   ],
   "source": [
    "\n",
    "archivo_salida = DATA_OUT_PATH / \"salida_individuos.csv\"\n",
    "\n",
    "datos_totales = []  # Lista para almacenar todos los datos procesados\n",
    "\n",
    "\n",
    "for archivo in list(FILES_PATH.glob(\"usu_individual*\")) + list(FILES_PATH.glob(\"EPH_personas*\")):\n",
    "    with open(archivo, encoding=\"utf-8\") as file:   #Modo lectura R por defecto, WITH OPEN cierra automáticamente al terminar.\n",
    "        lector_csv = csv.DictReader(file, delimiter=\";\")\n",
    "        lista_diccionarios = list(lector_csv)\n",
    "\n",
    "        #Llamo a las funciones para generar las nuevas columnas\n",
    "        lista_diccionarios = convertir_ch04_a_str_genero(lista_diccionarios)\n",
    "        lista_diccionarios = convertir_NIVEL_ED_a_str(lista_diccionarios)\n",
    "        lista_diccionarios = transformar_condicion_laboral(lista_diccionarios)\n",
    "        lista_diccionarios = generar_mayores_con_titulo(lista_diccionarios)\n",
    "\n",
    "        #elimina posibles claves vacías\n",
    "        #dictionary comprehension para recorrer y limpiar cada diccionario dentro de lista_diccionarios.\n",
    "        # d.items() devuelve todos los pares clave-valor del diccionario actual.\n",
    "        # k != '' filtra las claves, eliminando aquellas que son cadenas vacías (\"\").\n",
    "        # Solo se conservan las claves que sí tienen un nombre válido.\n",
    "        lista_diccionarios = [{k: v for k, v in d.items() if k != ''} for d in lista_diccionarios]\n",
    "\n",
    "        #agrego los elementos individuales de la lista pasada como argumento.\n",
    "        # [ [{'nombre': 'Ana'}, {'nombre': 'Juan'}] ] → LISTA ANIDADA\n",
    "        # [ {'nombre': 'Ana'}, {'nombre': 'Juan'} ] → ELEMENTOS INDIVIDUALES\n",
    "        #extend() se usa porque queremos fusionar listas, mientras que append() es mejor cuando queremos agregar un único objeto a la lista.\n",
    "        datos_totales.extend(lista_diccionarios)\n",
    "\n",
    "    print(f\"Procesado archivo: {archivo}\")\n",
    "\n",
    "# Escribir el archivo final con los datos procesados\n",
    "# Verifica si hay datos para guardar\n",
    "if datos_totales:\n",
    "    #\"w\" abre el archivo en modo escritura, sobreescribiendo el contenido si ya existe.\n",
    "    #newline='' evita líneas en blanco innecesarias en el CSV.\n",
    "    with open(archivo_salida, \"w\", newline='', encoding=\"utf-8\") as salida:\n",
    "        #csv.DictWriter() se usa para escribir diccionarios en un archivo CSV.\n",
    "        #fieldnames=datos_totales[0].keys() obtiene las claves del primer diccionario, usándolas como encabezados del CSV.\n",
    "        escritor_csv = csv.DictWriter(salida, fieldnames=datos_totales[0].keys(), delimiter=\";\")\n",
    "        #escribe la primera fila con los nombres de las columnas\n",
    "        escritor_csv.writeheader()\n",
    "        #escribe los datos fila por fila\n",
    "        escritor_csv.writerows(datos_totales)\n",
    "\n",
    "    print(f\"Datos guardados en: {archivo_salida}\")\n"
   ]
  },
  {
   "cell_type": "code",
   "execution_count": null,
   "id": "1a75652f",
   "metadata": {},
   "outputs": [],
   "source": []
  }
 ],
 "metadata": {
  "kernelspec": {
   "display_name": "venv",
   "language": "python",
   "name": "python3"
  },
  "language_info": {
   "codemirror_mode": {
    "name": "ipython",
    "version": 3
   },
   "file_extension": ".py",
   "mimetype": "text/x-python",
   "name": "python",
   "nbconvert_exporter": "python",
   "pygments_lexer": "ipython3",
   "version": "3.12.9"
  }
 },
 "nbformat": 4,
 "nbformat_minor": 5
}

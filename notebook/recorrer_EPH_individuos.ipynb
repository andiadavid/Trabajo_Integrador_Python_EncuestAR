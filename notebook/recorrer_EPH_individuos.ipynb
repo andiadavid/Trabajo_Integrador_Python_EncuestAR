{
 "cells": [
  {
   "cell_type": "code",
   "execution_count": 1,
   "id": "226aebcb",
   "metadata": {},
   "outputs": [],
   "source": [
    "import sys\n",
    "#agrego a la lista el directorio anterior\n",
    "sys.path.append(\"..\")"
   ]
  },
  {
   "cell_type": "code",
   "execution_count": 2,
   "id": "536a7a46",
   "metadata": {},
   "outputs": [],
   "source": [
    "#impOrto los paths del proyecto, data_eph y la salida del nuevo archivo EPH\n",
    "from src.utils.constantes import FILES_PATH, DATA_OUT_PATH\n",
    "#print(DATA_PATH)\n",
    "#print(DATA_OUT_PATH)    "
   ]
  },
  {
   "cell_type": "markdown",
   "id": "c5fc694f",
   "metadata": {},
   "source": [
    "#realizo los incisos pedidos:\n",
    "Trabajo con los path desde una carpeta y los accedo desde distintas partes del programa Constantes.py.\n",
    "Creo un nuevo archivo csv con todos los \"individuos\", este lo defino como salida_individuos."
   ]
  },
  {
   "cell_type": "code",
   "execution_count": 3,
   "id": "53a93e49",
   "metadata": {},
   "outputs": [],
   "source": [
    "#importo las funciones para el procesamiento del data_set_eph \n",
    "from src.procesamiento_daset import generar_archivo_individuos,leer_individuos_como_dicc, convertir_ch04_a_str_genero, reorganizar_encabezados, escribir_lista_como_csv, convertir_NIVEL_ED_a_str, transformar_condicion_laboral,generar_mayores_con_titulo\n",
    "\n",
    "#aca se podri haber importado con * paratraer odas las funciones"
   ]
  },
  {
   "cell_type": "code",
   "execution_count": 4,
   "id": "8d9fb1ef",
   "metadata": {},
   "outputs": [
    {
     "name": "stdout",
     "output_type": "stream",
     "text": [
      "fin archivo\n",
      "fin archivo\n"
     ]
    }
   ],
   "source": [
    "\n",
    "#este proceso creo un archivo nuevo salida individuos n la careta data_out dentro de data_eph\n",
    "archivo_individuos_salida = DATA_OUT_PATH / \"salida_individuos.csv\"\n",
    "#print(archivo_individuos_salida)\n",
    "generar_archivo_individuos(FILES_PATH, archivo_individuos_salida)\n",
    "\n",
    "#para probar solo deje dos archivos EPH 1er trimestre de 2022 y 2023 "
   ]
  },
  {
   "cell_type": "markdown",
   "id": "63650c27",
   "metadata": {},
   "source": [
    "#se debe traducir los valores de CH04 a masculino o femenino segun corresponda"
   ]
  },
  {
   "cell_type": "code",
   "execution_count": 5,
   "id": "e1d5d11c",
   "metadata": {},
   "outputs": [],
   "source": [
    "#Usamos el mismo path de salida porque vamos a sobreescribir el archivo\n",
    "lista_dicc = leer_individuos_como_dicc(archivo_individuos_salida)\n",
    "\n",
    "# Procesar los datos y convertir CH04 a género en formato str\n",
    "datos_procesados = convertir_ch04_a_str_genero(lista_dicc)\n",
    "\n",
    "# Reorganizar los encabezados para que CH04 y CH04_str esten juntos\n",
    "\n",
    "encabezado = reorganizar_encabezados(datos_procesados,\"CH04\", \"CH04_str\")\n",
    "\n",
    "# Sobrescribir el archivo con los datos procesados\n",
    "escribir_lista_como_csv(datos_procesados, encabezado, archivo_individuos_salida)"
   ]
  },
  {
   "cell_type": "markdown",
   "id": "d6acd3ec",
   "metadata": {},
   "source": [
    "#Se debe traducir los valores NIVEL_ED numéricos a descripciones en formato texto.\n",
    "#los modulos: leer_individuos_como_dicc, reorganizar_encabezados y escribir_lista_como_csv se pueden reutilizar ya que estan escritos de forma general, el modulo para convertir el formato de una columna a str se resuelve de manera propia "
   ]
  },
  {
   "cell_type": "code",
   "execution_count": 6,
   "id": "727a8136",
   "metadata": {},
   "outputs": [],
   "source": [
    "#Usamos el mismo path de salida porque vamos a sobreescribir el archivo\n",
    "\n",
    "lista_dicc = leer_individuos_como_dicc(archivo_individuos_salida)\n",
    "\n",
    "# Procesar los datos y convertir NIVEL_ED a género en formato str\n",
    "datos_procesados = convertir_NIVEL_ED_a_str(lista_dicc)\n",
    "\n",
    "# Reorganizar los encabezados para que NIVEL_ED y NIVEL_ED_str esten juntos\n",
    "encabezado = reorganizar_encabezados(datos_procesados,\"NIVEL_ED\", \"NIVEL_ED_str\")\n",
    "\n",
    "# Sobrescribir el archivo con los datos procesados\n",
    "escribir_lista_como_csv(datos_procesados, encabezado, archivo_individuos_salida)"
   ]
  },
  {
   "cell_type": "markdown",
   "id": "c25be468",
   "metadata": {},
   "source": [
    "#Se debe crear una nueva columna denominada CONDICION_LABORAL de formato\n",
    "texto con los valores de las columnas ESTADO y CAT_OCUP"
   ]
  },
  {
   "cell_type": "code",
   "execution_count": 7,
   "id": "67839f28",
   "metadata": {},
   "outputs": [],
   "source": [
    "#Usamos el mismo path de salida porque vamos a sobreescribir el archivo\n",
    "\n",
    "lista_dicc = leer_individuos_como_dicc(archivo_individuos_salida)\n",
    "\n",
    "# Procesar los datos y convertir CONDICION LABORAL en formato str con laa inforacion de estado Y cat_ocup\n",
    "datos_procesados = transformar_condicion_laboral(lista_dicc)\n",
    "\n",
    "# Reorganizar los encabezados\n",
    "encabezado = reorganizar_encabezados(datos_procesados,\"CAT_OCUP\", \"CONDICION_LABORAL\")\n",
    "\n",
    "# Sobrescribir el archivo con los datos procesados\n",
    "escribir_lista_como_csv(datos_procesados, encabezado, archivo_individuos_salida)"
   ]
  },
  {
   "cell_type": "markdown",
   "id": "957be800",
   "metadata": {},
   "source": [
    "Se debe generar una nueva columna llamada UNIVERSITARIO numérica que indica si una persona mayor de edad ha completado como mínimo el nivel universitario (1:Sí, 0: No, 2: no aplica)."
   ]
  },
  {
   "cell_type": "code",
   "execution_count": 8,
   "id": "56c6a41d",
   "metadata": {},
   "outputs": [],
   "source": [
    "#Usamos el mismo path de salida porque vamos a sobreescribir el archivo\n",
    "\n",
    "lista_dicc = leer_individuos_como_dicc(archivo_individuos_salida)\n",
    "\n",
    "# Procesar los datos y convertir CONDICION LABORAL en formato str con laa inforacion de estado Y cat_ocup\n",
    "datos_procesados = generar_mayores_con_titulo(lista_dicc)\n",
    "\n",
    "# Reorganizar los encabezados\n",
    "# la calumna UNIVERSITARIO la agrego despues de la columna CH04_str para visualizarlo en una hoja de calculo\n",
    "encabezado = reorganizar_encabezados(datos_procesados,\"NIVEL_ED_str\", \"UNIVERSITARIO\")\n",
    "\n",
    "# Sobrescribir el archivo con los datos procesados\n",
    "escribir_lista_como_csv(datos_procesados, encabezado, archivo_individuos_salida)"
   ]
  },
  {
   "cell_type": "markdown",
   "id": "fc33e341",
   "metadata": {},
   "source": [
    "En estos ultimos 4 cells de codigo solo cambia la llamada al modulo que se encarga de procesar la lsita de diccionarios con el objetivo de crear una nueva columna procesando la informacion de otras columnas segun lo que se pida en el enunciado.\n",
    "Ademas se va sobreescribiendo el mismo archivo.\n",
    "La nueva columna se agrega despues de una columna base que es a eleccion, este proceso se realiza igual para todas las columnas solo cambiar los parametros que se envian a la funcion \"reorganizar_emcabezados\"."
   ]
  }
 ],
 "metadata": {
  "kernelspec": {
   "display_name": "venv",
   "language": "python",
   "name": "python3"
  },
  "language_info": {
   "codemirror_mode": {
    "name": "ipython",
    "version": 3
   },
   "file_extension": ".py",
   "mimetype": "text/x-python",
   "name": "python",
   "nbconvert_exporter": "python",
   "pygments_lexer": "ipython3",
   "version": "3.12.9"
  }
 },
 "nbformat": 4,
 "nbformat_minor": 5
}

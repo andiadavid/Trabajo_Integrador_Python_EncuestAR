{
 "cells": [
  {
   "cell_type": "code",
   "execution_count": null,
   "metadata": {},
   "outputs": [],
   "source": [
    "#inicio de sistema"
   ]
  },
  {
   "cell_type": "code",
   "execution_count": 1,
   "metadata": {},
   "outputs": [],
   "source": [
    "import os\n",
    "import sys\n",
    "\n",
    "#importo y configuro la ruta de mi la carpeta files\n",
    "sys.path.append(os.path.abspath(\"../files\"))"
   ]
  },
  {
   "cell_type": "code",
   "execution_count": 2,
   "metadata": {},
   "outputs": [
    {
     "name": "stdout",
     "output_type": "stream",
     "text": [
      "total mujeres: 15248344 || total hombres: 14471801\n"
     ]
    }
   ],
   "source": [
    "import csv\n",
    "\n",
    "#defino la ruta de mi archivo\n",
    "path_file = '../files/usu_individual_T324.txt'\n",
    "\n",
    "#guardoen un var la columna 9, ponderacion (cant real de individuos)\n",
    "PONDERA_INDEX = 9\n",
    "#guardo en un var la columna 11 perteneciente a el genero\n",
    "CH04_index = 11 #si es 1 es varon, si es 2 es mujer\n",
    "    \n",
    "contador_m = 0\n",
    "contador_f = 0\n",
    "\n",
    "#abro el archivo csv(con la ruta=path) y lo renombro archivo_csv\n",
    "#IMPORTANTE al abrir el archivo tenemos que \"saltar\" el emcabezado con next\n",
    "with open(path_file, encoding='utf-8') as archivo_csv:\n",
    "    #leo el arc_csv y lo delimito con ';'\n",
    "    reader = csv.reader(archivo_csv, delimiter = ';')\n",
    "    \n",
    "    #salto el encabezado\n",
    "    encabezado = next(reader)\n",
    "\n",
    "    #recorro el iterable, lista, cada \"fila\"\n",
    "    for row in reader:\n",
    "        #verifico que tiene pondera_index\n",
    "        #print(row[PONDERA_INDEX])\n",
    "\n",
    "        #accedo a la columna genero de cada \"fila\"\n",
    "        #la comparacion se hace con un STR: '1'  \n",
    "        if row [CH04_index] == '1':\n",
    "            #si es 1 es masculino\n",
    "            contador_m = contador_m + (1 * int(row[PONDERA_INDEX]))\n",
    "        else: \n",
    "            #contador femenino\n",
    "            contador_f = contador_f + (1 * int(row[PONDERA_INDEX]))\n",
    "\n",
    "        #print(row[CH04_index])\n",
    "#se cierra el archivo y se graban los cambios si asi fuera \n",
    "\n",
    "print (\"total mujeres: \" + str(contador_f) + \" || total hombres: \" + str(contador_m))\n"
   ]
  }
 ],
 "metadata": {
  "kernelspec": {
   "display_name": "3.12.9",
   "language": "python",
   "name": "python3"
  },
  "language_info": {
   "codemirror_mode": {
    "name": "ipython",
    "version": 3
   },
   "file_extension": ".py",
   "mimetype": "text/x-python",
   "name": "python",
   "nbconvert_exporter": "python",
   "pygments_lexer": "ipython3",
   "version": "3.12.9"
  }
 },
 "nbformat": 4,
 "nbformat_minor": 2
}

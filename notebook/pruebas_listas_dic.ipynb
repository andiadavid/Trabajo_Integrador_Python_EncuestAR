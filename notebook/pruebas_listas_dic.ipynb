{
 "cells": [
  {
   "cell_type": "code",
   "execution_count": 1,
   "id": "2bceac52",
   "metadata": {},
   "outputs": [
    {
     "name": "stdout",
     "output_type": "stream",
     "text": [
      "/home/laptop-ubuntu/python/encuestAR/notebook\n"
     ]
    }
   ],
   "source": [
    "from pathlib import Path\n",
    "directorio_actual = Path.cwd()\n",
    "print(directorio_actual)"
   ]
  },
  {
   "cell_type": "code",
   "execution_count": 2,
   "id": "a2e44420",
   "metadata": {},
   "outputs": [],
   "source": [
    "import sys \n",
    "#voy un direcctorio para atras \n",
    "sys.path.append(\"..\")"
   ]
  },
  {
   "cell_type": "code",
   "execution_count": 3,
   "id": "2a5e96c7",
   "metadata": {},
   "outputs": [],
   "source": [
    "#imprto los paths del proyecto, data_eph y la salida del nuevo path par individuos\n",
    "from src.utils.constantes import FILES_PATH, DATA_OUT_PATH"
   ]
  },
  {
   "cell_type": "code",
   "execution_count": null,
   "id": "858d8765",
   "metadata": {},
   "outputs": [
    {
     "name": "stdout",
     "output_type": "stream",
     "text": [
      "archivo csv:  /home/laptop-ubuntu/python/encuestAR/notebook/../files/data_out/prueba_data.csv\n",
      "lista de diccionarios:  [{'Nombre': 'Juan', 'Edad': '25', 'Ciudad': 'Buenos Aires'}, {'Nombre': 'Maria', 'Edad': '30', 'Ciudad': 'Córdoba'}]\n",
      "fila:  {'Nombre': 'Juan', 'Edad': '25', 'Ciudad': 'Buenos Aires'}\n",
      "fila:  {'Nombre': 'Maria', 'Edad': '30', 'Ciudad': 'Córdoba'}\n",
      "lista de diccionarios con nueva columna:  [{'Nombre': 'Juan', 'Edad': '25', 'Ciudad': 'Buenos Aires', 'Edad_str': 'menor igual a 25'}, {'Nombre': 'Maria', 'Edad': '30', 'Ciudad': 'Córdoba', 'Edad_str': 'mayores 25'}]\n",
      "lista de diccionarios con nueva columna:  [{'Nombre': 'Juan', 'Edad': '25', 'Ciudad': 'Buenos Aires', 'Edad_str': 'menor igual a 25'}, {'Nombre': 'Maria', 'Edad': '30', 'Ciudad': 'Córdoba', 'Edad_str': 'mayores 25'}]\n"
     ]
    }
   ],
   "source": [
    "import csv\n",
    "from pathlib import Path\n",
    "\n",
    "def agregar_columna_csv(archivo_csv):\n",
    "    \"\"\"Agrega una nueva columna al archivo CSV existente.\"\"\"\n",
    "    # Leer el archivo existente como una lista de diccionarios\n",
    "    with open(archivo_csv, newline='', encoding='utf-8') as entrada:\n",
    "        lector = csv.DictReader(entrada, delimiter=';')\n",
    "        datos = [fila for fila in lector]  # Lista de diccionarios existentes\n",
    "    print(\"lista de diccionarios: \", datos)\n",
    "\n",
    "    # Agregar la columna Edad_str con los valores correspondientes\n",
    "    for fila in datos:\n",
    "        print(\"fila: \", fila)\n",
    "        if \"Edad\" in fila:  # Asegurarse de que la columna Edad exista\n",
    "            try:\n",
    "                edad = int(fila[\"Edad\"])  # Convertir Edad a entero\n",
    "                fila[\"Edad_str\"] = \"mayores 25\" if edad > 25 else \"menor igual a 25\"\n",
    "            except ValueError:\n",
    "                fila[\"Edad_str\"] = \"valor inválido\"  # Manejar valores no numéricos\n",
    "        else:\n",
    "            fila[\"Edad_str\"] = \"columna faltante\"  # Manejar filas sin la clave Edad\n",
    "    \n",
    "    print(\"lista de diccionarios con nueva columna: \", datos)\n",
    "\n",
    "    # Reorganizar las columnas para que Edad_str quede junto a Edad\n",
    "    encabezado = list(datos[0].keys())  # Obtener las claves actuales\n",
    "    if \"Edad\" in encabezado and \"Edad_str\" in encabezado:\n",
    "        # Mover Edad_str al lado de Edad\n",
    "        encabezado.remove(\"Edad_str\")\n",
    "        indice_edad = encabezado.index(\"Edad\")\n",
    "        encabezado.insert(indice_edad + 1, \"Edad_str\")\n",
    "   \n",
    "    # Sobrescribir el archivo con las columnas reorganizadas\n",
    "    with open(archivo_csv, \"w\", newline='', encoding='utf-8') as salida:\n",
    "        escritor = csv.DictWriter(salida, fieldnames=encabezado, delimiter=';')\n",
    "        escritor.writeheader()  # Escribe el encabezado reorganizado\n",
    "        escritor.writerows(datos)  # Escribe las filas actualizadas\n",
    "\n",
    "# Uso de la función\n",
    "\n",
    "archivo_salida = DATA_OUT_PATH / \"prueba_data.csv\"\n",
    "print(\"archivo csv: \",archivo_salida)\n",
    "# Agregar la columna 'Nueva_Columna' con un valor predeterminado 'valor'\n",
    "agregar_columna_csv(archivo_salida)\n"
   ]
  },
  {
   "cell_type": "code",
   "execution_count": null,
   "id": "159c61a0",
   "metadata": {},
   "outputs": [],
   "source": []
  }
 ],
 "metadata": {
  "kernelspec": {
   "display_name": "venv",
   "language": "python",
   "name": "python3"
  },
  "language_info": {
   "codemirror_mode": {
    "name": "ipython",
    "version": 3
   },
   "file_extension": ".py",
   "mimetype": "text/x-python",
   "name": "python",
   "nbconvert_exporter": "python",
   "pygments_lexer": "ipython3",
   "version": "3.12.9"
  }
 },
 "nbformat": 4,
 "nbformat_minor": 5
}

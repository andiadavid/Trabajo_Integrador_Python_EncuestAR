{
 "cells": [
  {
   "cell_type": "markdown",
   "id": "50d1d75b",
   "metadata": {},
   "source": [
    "# PARTE A: generación del dataset principal\n",
    "## Información hogares\n",
    "### Grupo  13"
   ]
  },
  {
   "cell_type": "markdown",
   "id": "5b4cc9fb",
   "metadata": {},
   "source": [
    "Importación de librerías necesarias y funciones necesarias para el procesamiento del dataset"
   ]
  },
  {
   "cell_type": "code",
   "execution_count": 1,
   "id": "f642c497",
   "metadata": {},
   "outputs": [],
   "source": [
    "import os  \n",
    "from openpyxl import load_workbook\n",
    "from pathlib import Path\n",
    "import csv\n",
    "import sys\n",
    "\n",
    "sys.path.append(\"..\")\n",
    "from src.utils.procesamiento_dataset import obtener_entero, procesar_tipo_hogar, procesar_material_techumbre, procesar_densidad_hogar, procesar_condicion_habitabilidad"
   ]
  },
  {
   "cell_type": "markdown",
   "id": "7c1a8ae3",
   "metadata": {},
   "source": [
    "Importación de rutas"
   ]
  },
  {
   "cell_type": "code",
   "execution_count": 2,
   "id": "17a2cc01",
   "metadata": {},
   "outputs": [],
   "source": [
    "carpeta = Path(\"../files\") \n",
    "archivos_txt = [f for f in os.listdir(carpeta) if \"hogar\" in f and f.endswith(\".txt\")] \n",
    "\n",
    "hogares = [] "
   ]
  },
  {
   "cell_type": "markdown",
   "id": "0888ce28",
   "metadata": {},
   "source": [
    "**Creación de un dataset de hogares a partir de la información disponible**. \n",
    "\n",
    "Este dataset contiene además columnas con formato texto que permiten una lectura más clara de los datos. \n",
    "\n",
    "•\t**TIPO_HOGAR**: indica el tipo de hogar según la cantidad de personas que viven.  \n",
    "\n",
    "•\t**MATERIAL_TECHUMBRE**: indica el tipo de hogar según el material del techo de la vivienda. \n",
    "\n",
    "•\t**DENSIDAD_HOGAR**: indica la densidad del hogar.\n",
    "\n",
    "•\t**CONDICION_DE_HABITABILIDAD**: califica a las viviendas en Insuficiente, Regular, Saludable y Buenas según las siguientes variables:\n",
    "\n",
    "        - IV6: tiene agua\n",
    "        - IV7: origen del agua\n",
    "        - IV8: posee baño\n",
    "        - IV9: ubicación del baño\n",
    "        - IV10: tipo de baño\n",
    "        - IV11: desague del baño \n",
    "\n"
   ]
  },
  {
   "cell_type": "code",
   "execution_count": 3,
   "id": "fa6f986d",
   "metadata": {},
   "outputs": [],
   "source": [
    "for archivo in archivos_txt:\n",
    "    ruta_archivo = carpeta / archivo\n",
    "    with open(ruta_archivo, encoding=\"utf-8\") as f:\n",
    "        lector = csv.reader(f, delimiter=';')\n",
    "        filas = list(lector)\n",
    "        \n",
    "        encabezado = [columna.strip('\"') for columna in filas[0]] \n",
    "       \n",
    "    \n",
    "        try:\n",
    "            ix_tot_idx = encabezado.index(\"IX_TOT\")      \n",
    "            iv4_idx = encabezado.index(\"IV4\")     \n",
    "            iv2_idx = encabezado.index(\"IV2\")\n",
    "            iv6_idx = encabezado.index(\"IV6\")\n",
    "            iv7_idx = encabezado.index(\"IV7\")\n",
    "            iv8_idx = encabezado.index(\"IV8\")\n",
    "            iv9_idx = encabezado.index(\"IV9\")\n",
    "            iv10_idx = encabezado.index(\"IV10\") \n",
    "            iv11_idx = encabezado.index(\"IV11\")\n",
    "        except ValueError as e:\n",
    "            print(f\"No se encontró alguna columna en {archivo}: {e}\")\n",
    "            continue\n",
    "    \n",
    "    \n",
    "        for fila in filas[1:]:\n",
    "            hogar = {encabezado[i]: fila[i] for i in range(len(encabezado))}\n",
    "            \n",
    "            hogar = {clave: valor for clave, valor in hogar.items() if clave.strip()} \n",
    "  \n",
    "            hogar[\"TIPO_HOGAR\"] = procesar_tipo_hogar (fila, ix_tot_idx)\n",
    "            hogar[\"MATERIAL_TECHUMBRE\"] = procesar_material_techumbre (fila, iv4_idx)\n",
    "            hogar[\"DENSIDAD_HOGAR\"] = procesar_densidad_hogar (fila, iv2_idx, ix_tot_idx)\n",
    "            hogar[\"CONDICION_DE_HABITABILIDAD\"] = procesar_condicion_habitabilidad (fila, iv6_idx, iv7_idx, iv8_idx, iv9_idx, iv10_idx, iv11_idx)\n",
    "            \n",
    "            \n",
    "            \n",
    "            hogares.append(hogar)\n",
    "\n",
    "\n",
    "        "
   ]
  },
  {
   "cell_type": "markdown",
   "id": "b2981be1",
   "metadata": {},
   "source": [
    "Genero la ruta de salida y archivo csv"
   ]
  },
  {
   "cell_type": "code",
   "execution_count": 4,
   "id": "61ec1523",
   "metadata": {},
   "outputs": [
    {
     "name": "stdout",
     "output_type": "stream",
     "text": [
      "Archivo guardado exitosamente como: ../data_out/salida_hogares.csv\n"
     ]
    }
   ],
   "source": [
    "ruta_salida_csv = Path(\"../data_out\") / \"salida_hogares.csv\"\n",
    "\n",
    "\n",
    "if hogares:\n",
    "    \n",
    "    if isinstance(hogares[0], dict):\n",
    "        campos = [campo for campo in hogares[0].keys() if campo.strip()] \n",
    "        \n",
    "        with open(ruta_salida_csv, \"w\", newline=\"\", encoding=\"utf-8\") as archivo_csv:\n",
    "         \n",
    "            escritor = csv.DictWriter(archivo_csv, fieldnames=campos, delimiter=';')\n",
    "            escritor.writeheader()\n",
    "            escritor.writerows(hogares) \n",
    "        print(f\"Archivo guardado exitosamente como: {ruta_salida_csv}\")\n"
   ]
  }
 ],
 "metadata": {
  "kernelspec": {
   "display_name": "venv",
   "language": "python",
   "name": "python3"
  },
  "language_info": {
   "codemirror_mode": {
    "name": "ipython",
    "version": 3
   },
   "file_extension": ".py",
   "mimetype": "text/x-python",
   "name": "python",
   "nbconvert_exporter": "python",
   "pygments_lexer": "ipython3",
   "version": "3.12.9"
  }
 },
 "nbformat": 4,
 "nbformat_minor": 5
}

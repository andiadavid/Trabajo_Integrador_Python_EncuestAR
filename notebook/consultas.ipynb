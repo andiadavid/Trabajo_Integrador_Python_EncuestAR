{
 "cells": [
  {
   "cell_type": "markdown",
   "id": "8f95844b",
   "metadata": {},
   "source": [
    "# PARTE B: Consultas del Dataset\n",
    "## Grupo 13\n",
    "### Trabajo integrador (parte I)"
   ]
  },
  {
   "cell_type": "code",
   "execution_count": 1,
   "id": "94f72154",
   "metadata": {},
   "outputs": [],
   "source": [
    "import sys\n",
    "import os\n",
    "\n",
    "sys.path.append(\"..\")\n",
    "from src.utils.constantes import FILES_PATH, DATA_OUT_PATH\n",
    "from src.utils.consultas import *\n"
   ]
  },
  {
   "cell_type": "markdown",
   "id": "d0b3c7c5",
   "metadata": {},
   "source": [
    "Ruta a los dataset de individuos y de hogares"
   ]
  },
  {
   "cell_type": "code",
   "execution_count": 2,
   "id": "227a48c5",
   "metadata": {},
   "outputs": [],
   "source": [
    "archivo_individuos = DATA_OUT_PATH / \"salida_individuos.csv\"\n",
    "archivo_hogares = DATA_OUT_PATH / \"salida_hogares.csv\"\n",
    "\n"
   ]
  },
  {
   "cell_type": "markdown",
   "id": "7f646ab2",
   "metadata": {},
   "source": [
    "**Inciso 1:** A partir de la información de cada año contenida en el dataset se debe informar, año tras año, el porcentaje de personas mayores a 6 años capaces e incapaces de leer y escribir.\n",
    "\n",
    "Importante: tomar la información del último trimestre de cada año."
   ]
  },
  {
   "cell_type": "code",
   "execution_count": 3,
   "id": "678339f5",
   "metadata": {},
   "outputs": [
    {
     "name": "stdout",
     "output_type": "stream",
     "text": [
      "\n",
      "Resultados de Alfabetización (Mayores de 6 años, último trimestre de cada año):\n",
      "-------------------------------------------------------------------------------------\n",
      "Año        | Alfabetizado (%)   | No Alfabetizado (%) |\n",
      "-------------------------------------------------------------------------------------\n",
      "2021       | 99.05              | 0.92               |\n",
      "2022       | 99.18              | 0.82               |\n"
     ]
    }
   ],
   "source": [
    "resultados = analizar_alfabetizacion(archivo_individuos)\n",
    "mostrar_resultados(resultados)"
   ]
  },
  {
   "cell_type": "markdown",
   "id": "40bfcec6",
   "metadata": {},
   "source": [
    "**Inciso 2:** A partir de un año y trimestre elegido por el usuario informar el porcentaje de personas no nacidas en Argentina que hayan cursado un nivel universitario o superior."
   ]
  },
  {
   "cell_type": "code",
   "execution_count": 4,
   "id": "29b70b13",
   "metadata": {},
   "outputs": [
    {
     "name": "stdout",
     "output_type": "stream",
     "text": [
      "Para calcular el porcentaje de personas no nacidas en Argentina que hayan cursado un nivel universitario o superior, se solicita ingresar un trimestre y año.\n",
      "Tener en cuenta que la EPH contiene datos desde 2003 en adelante.\n",
      "\n",
      "\n",
      "[Resultado 2021-T1]\n",
      "El 29.21% de personas no nacidas en Argentina (2021-T1) han cursado el nivel Universitario o Superior.\n",
      "• Total: 1,066,203 extranjeros\n",
      "• Universitarios: 311,416\n"
     ]
    }
   ],
   "source": [
    "#Mensaje informativo\n",
    "print(\"Para calcular el porcentaje de personas no nacidas en Argentina que hayan cursado un nivel universitario o superior, se solicita ingresar un trimestre y año.\")\n",
    "print(\"Tener en cuenta que la EPH contiene datos desde 2003 en adelante.\\n\")\n",
    "\n",
    "# Solicitar inputs con validación\n",
    "ano_elegido = solicitar_ano()\n",
    "trimestre_elegido = solicitar_trimestre()\n",
    "\n",
    "# Llamar a la función\n",
    "analizar_extranjero_universitarios(archivo_individuos, ano_elegido, trimestre_elegido)"
   ]
  },
  {
   "cell_type": "markdown",
   "id": "19c1be08",
   "metadata": {},
   "source": [
    "**Inciso 3:** A partir de la información contenida en el dataset informar el año y trimestre donde hubo menor desocupación"
   ]
  },
  {
   "cell_type": "code",
   "execution_count": 5,
   "id": "cd7aec44",
   "metadata": {},
   "outputs": [
    {
     "name": "stdout",
     "output_type": "stream",
     "text": [
      "\n",
      "Período con menor desocupación: 2022-T4\n",
      "Tasa: 6.28%\n",
      "\n",
      "Tasas de desocupación por período:\n",
      "2021-T3: 8.24%\n",
      "2022-T4: 6.28%\n",
      "2022-T2: 6.86%\n",
      "2022-T3: 7.11%\n",
      "2021-T2: 9.60%\n",
      "2022-T1: 6.97%\n",
      "2021-T4: 6.97%\n",
      "2021-T1: 10.16%\n"
     ]
    }
   ],
   "source": [
    "resultados = analizar_desocupacion(archivo_individuos)\n",
    "mostrar_resultados_desocupacion(resultados)"
   ]
  },
  {
   "cell_type": "markdown",
   "id": "70194f4f",
   "metadata": {},
   "source": [
    "**Inciso 4:**   Ranking de los 5 aglomerados con mayor porcentaje de hogares con dos o más ocupantes con estudios universitarios o superiores finalizados. Información obtenida a partir del par de archivos más recientes."
   ]
  },
  {
   "cell_type": "code",
   "execution_count": 6,
   "id": "110c1290",
   "metadata": {},
   "outputs": [
    {
     "name": "stdout",
     "output_type": "stream",
     "text": [
      "Top 5 aglomerados con mayor % de hogares con 2+ universitarios (ponderado):\n",
      " Ciudad Autónoma de Buenos Aires: 16.85%\n",
      " Gran Catamarca: 10.49%\n",
      " Viedma-Carmen de Patagones: 10.28%\n",
      " Gran La Plata: 10.22%\n",
      " Jujuy-Palpalá: 9.65%\n"
     ]
    }
   ],
   "source": [
    "ultimo_periodo = obtener_ultimo_periodo(archivo_individuos)\n",
    "hogares_con_2plus = hogares_cumplen_profesionales(archivo_individuos, ultimo_periodo[0], ultimo_periodo[1])\n",
    "\n",
    "ultimo_periodo= obtener_ultimo_periodo(archivo_hogares)\n",
    "ranking_5_aglomerados(archivo_hogares, hogares_con_2plus, ultimo_periodo[0], ultimo_periodo[1])\n",
    "\n"
   ]
  },
  {
   "cell_type": "markdown",
   "id": "bb823dc6",
   "metadata": {},
   "source": [
    "**Inciso 5:**   Informar para cada aglomerado el porcentaje de viviendas ocupadas por sus propietarios."
   ]
  },
  {
   "cell_type": "code",
   "execution_count": 7,
   "id": "299bbb76",
   "metadata": {},
   "outputs": [
    {
     "name": "stdout",
     "output_type": "stream",
     "text": [
      "Porcentaje de viviendas ocupadas por propietarios por aglomerado:\n",
      "Gran Mendoza: 62.26%\n",
      "Corrientes: 71.29%\n",
      "Gran Córdoba: 56.45%\n",
      "Concordia: 74.02%\n",
      "Formosa: 79.51%\n",
      "Neuquén-Plottier: 67.33%\n",
      "Santiago del Estero-La Banda: 85.82%\n",
      "Jujuy-Palpalá: 75.31%\n",
      "Gran La Plata: 71.82%\n",
      "Río Gallegos: 54.57%\n",
      "Gran Catamarca: 80.55%\n",
      "Gran Salta: 67.99%\n",
      "La Rioja: 75.83%\n",
      "Gran San Luis: 67.72%\n",
      "Gran San Juan: 67.57%\n",
      "Gran Tucumán-Tafí Viejo: 74.55%\n",
      "Bahía Blanca-Cerri: 63.82%\n",
      "Santa Rosa-Toay: 63.67%\n",
      "Ushuaia-Río Grande: 57.47%\n",
      "Ciudad Autónoma de Buenos Aires: 56.81%\n",
      "Partidos del Gran Buenos Aires: 73.16%\n",
      "Mar del Plata: 69.89%\n",
      "Río Cuarto: 58.77%\n",
      "San Nicolás-Villa Constitución: 71.48%\n",
      "Gran Rosario: 71.03%\n",
      "Gran Santa Fe: 72.18%\n",
      "Gran Paraná: 60.07%\n",
      "Posadas: 72.12%\n",
      "Gran Resistencia: 81.68%\n",
      "Comodoro Rivadavia-Rada Tilly: 67.13%\n",
      "Rawson-Trelew: 65.27%\n",
      "Viedma-Carmen de Patagones: 67.66%\n"
     ]
    }
   ],
   "source": [
    "porcentaje_propietarios_por_aglomerado(archivo_hogares)"
   ]
  },
  {
   "cell_type": "markdown",
   "id": "5f9e2e56",
   "metadata": {},
   "source": [
    "**Inciso 6:** Informar el aglomerado con mayor cantidad de viviendas con más de dos ocupantes y sin baño. Informar también la cantidad de ellas."
   ]
  },
  {
   "cell_type": "code",
   "execution_count": 8,
   "id": "1961cf30",
   "metadata": {},
   "outputs": [
    {
     "name": "stdout",
     "output_type": "stream",
     "text": [
      "Aglomerado con mayor cantidad de viviendas con más de 2 ocupantes y sin baño:\n",
      "Partidos del Gran Buenos Aires: 25,217 hogares (ponderado)\n"
     ]
    }
   ],
   "source": [
    "aglomerado_con_mas_hogares_sin_banio(archivo_hogares)"
   ]
  },
  {
   "cell_type": "markdown",
   "id": "f7b6464e",
   "metadata": {},
   "source": [
    "**Inciso 7:** Informar para cada aglomerado el porcentaje de personas que hayan cursado al menos en nivel universitario o superior."
   ]
  },
  {
   "cell_type": "code",
   "execution_count": 9,
   "id": "bee3bb4b",
   "metadata": {},
   "outputs": [
    {
     "name": "stdout",
     "output_type": "stream",
     "text": [
      "\n",
      "Porcentaje de personas con nivel universitario o superior por aglomerado:\n",
      "Jujuy-Palpalá: 26.47%\n",
      "Gran Córdoba: 29.05%\n",
      "Gran Resistencia: 20.4%\n",
      "Mar del Plata: 27.58%\n",
      "Gran Catamarca: 25.95%\n",
      "Partidos del Gran Buenos Aires: 21.27%\n",
      "Gran Mendoza: 27.37%\n",
      "Neuquén-Plottier: 22.39%\n",
      "Concordia: 18.21%\n",
      "Bahía Blanca-Cerri: 30.85%\n",
      "Río Cuarto: 28.18%\n",
      "Corrientes: 27.84%\n",
      "Gran Santa Fe: 26.54%\n",
      "Ciudad Autónoma de Buenos Aires: 48.8%\n",
      "Gran Paraná: 31.64%\n",
      "Comodoro Rivadavia-Rada Tilly: 21.21%\n",
      "Gran Tucumán-Tafí Viejo: 24.35%\n",
      "Rawson-Trelew: 21.58%\n",
      "Ushuaia-Río Grande: 22.0%\n",
      "Gran La Plata: 33.37%\n",
      "Viedma-Carmen de Patagones: 23.98%\n",
      "San Nicolás-Villa Constitución: 18.85%\n",
      "Gran Rosario: 27.77%\n",
      "Río Gallegos: 21.7%\n",
      "Santiago del Estero-La Banda: 23.04%\n",
      "Formosa: 18.63%\n",
      "La Rioja: 26.17%\n",
      "Gran San Luis: 23.08%\n",
      "Gran Salta: 26.43%\n",
      "Santa Rosa-Toay: 23.03%\n",
      "Gran San Juan: 21.36%\n",
      "Posadas: 26.47%\n"
     ]
    }
   ],
   "source": [
    "universitarios_por_aglomerado(archivo_individuos)"
   ]
  },
  {
   "cell_type": "markdown",
   "id": "780243e8",
   "metadata": {},
   "source": [
    "**Inciso 8:** Ordenar las regiones de forma descendente según el porcentaje de inquilinos de cada una."
   ]
  },
  {
   "cell_type": "code",
   "execution_count": 10,
   "id": "864ef41c",
   "metadata": {},
   "outputs": [
    {
     "name": "stdout",
     "output_type": "stream",
     "text": [
      "\n",
      "PORCENTAJE DE INQUILINOS POR REGIÓN (Orden descendente)\n",
      "=============================================\n",
      "Patagonia             26.25%\n",
      "Pampeana              23.62%\n",
      "Cuyo                  20.72%\n",
      "Noreste               14.64%\n",
      "Noroeste              13.47%\n"
     ]
    }
   ],
   "source": [
    "inquilinos_por_region(archivo_hogares)"
   ]
  },
  {
   "cell_type": "markdown",
   "id": "7d0f7ebd",
   "metadata": {},
   "source": [
    "**Inciso 9:** Pedir al usuario que seleccione un aglomerado y a partir de la información contenida retornar una tabla que contenga la cantidad de personas mayores de edad según su nivel de estudios alcanzados. "
   ]
  },
  {
   "cell_type": "code",
   "execution_count": 11,
   "id": "72106e59",
   "metadata": {},
   "outputs": [
    {
     "name": "stdout",
     "output_type": "stream",
     "text": [
      "\n",
      "Nombre de Aglomerado: Gran La Plata\n",
      "---------------------------------------------------------------------------------------------------------\n",
      "Año    | Trimestre | Primario incompleto | Primario completo | Secundario incompleto | Secundario completo | Superior o universitario\n",
      "------------------------------------------------------------------------------------------------------------------------\n",
      "2021   | 1         | 31068                | 94446              | 84454                | 136950             | 304596                \n",
      "2021   | 2         | 30280                | 85010              | 95923                | 137845             | 304154                \n",
      "2021   | 3         | 24842                | 88333              | 101243               | 132755             | 314107                \n",
      "2021   | 4         | 23373                | 89199              | 100079               | 155819             | 297991                \n",
      "2022   | 1         | 29283                | 82750              | 111331               | 143993             | 299705                \n",
      "2022   | 2         | 39625                | 81142              | 105630               | 124559             | 305453                \n",
      "2022   | 3         | 42735                | 56836              | 109453               | 145701             | 308336                \n",
      "2022   | 4         | 40470                | 62128              | 111629               | 164466             | 290760                \n"
     ]
    }
   ],
   "source": [
    "aglomerado_elegido = input(\"Ingresá un aglomerado (por ejemplo, Gran Córdoba): \")\n",
    "mapeo_inverso = {v: k for k, v in mapeo_aglomerados.items()}\n",
    "codigo_aglom_elegido = mapeo_inverso.get(aglomerado_elegido, \"No encontrado\")  \n",
    "\n",
    "if codigo_aglom_elegido == \"No encontrado\":\n",
    "    print(\"El aglomerado ingresado no es válido.\")\n",
    "else:\n",
    "    mayores_edad_nivel_estudios(archivo_individuos, codigo_aglom_elegido)"
   ]
  },
  {
   "cell_type": "markdown",
   "id": "09c33fbe",
   "metadata": {},
   "source": [
    "**Inciso 10:** Pedir al usuario que seleccione dos aglomerados y a partir de la información contenida retornar una tabla que contenga el porcentaje de personas mayores de edad con secundario incompleto. "
   ]
  },
  {
   "cell_type": "code",
   "execution_count": 12,
   "id": "1b317870",
   "metadata": {},
   "outputs": [
    {
     "name": "stdout",
     "output_type": "stream",
     "text": [
      "\n",
      "Comparación de porcentaje de Secundario incompleto (mayores de 18 años)\n",
      "---------------------------------------------------------------------------------------------------------\n",
      "Año    | Trimestre | Gran La Plata                            | Gran Rosario                            \n",
      "---------------------------------------------------------------------------------------------------------\n",
      "2021   | 1        | 12.10                                    | 14.79                                   \n",
      "2021   | 2        | 13.70                                    | 14.56                                   \n",
      "2021   | 3        | 14.37                                    | 15.05                                   \n",
      "2021   | 4        | 14.05                                    | 15.01                                   \n",
      "2022   | 1        | 15.62                                    | 16.53                                   \n",
      "2022   | 2        | 14.90                                    | 14.12                                   \n",
      "2022   | 3        | 15.75                                    | 14.27                                   \n",
      "2022   | 4        | 15.57                                    | 13.72                                   \n"
     ]
    }
   ],
   "source": [
    "aglomerado_uno = input(\"Ingresá un aglomerado (por ejemplo, Gran Córdoba): \")\n",
    "aglomerado_dos = input(\"Ingresá un aglomerado (por ejemplo, Formosa): \")\n",
    "codigo_aglom_uno = mapeo_inverso.get(aglomerado_uno, \"No encontrado\")\n",
    "codigo_aglom_dos = mapeo_inverso.get(aglomerado_dos, \"No encontrado\")\n",
    "if codigo_aglom_uno == \"No encontrado\" or codigo_aglom_dos == \"No encontrado\":\n",
    "    print(\"Uno de los aglomerados ingresados no es válido.\")\n",
    "else:\n",
    "    mayores_secundario_incompleto(archivo_individuos, codigo_aglom_uno, codigo_aglom_dos)"
   ]
  },
  {
   "cell_type": "markdown",
   "id": "47d13d93",
   "metadata": {},
   "source": [
    "**Inciso 11:** Pedir al usuario que seleccione un año, el aglomerado con mayor porcentaje de viviendas de \"Material precario\" y el aglomerado con menor porcentaje de viviendas de \"Material precario\". "
   ]
  },
  {
   "cell_type": "code",
   "execution_count": 13,
   "id": "13e6ffe2",
   "metadata": {},
   "outputs": [
    {
     "name": "stdout",
     "output_type": "stream",
     "text": [
      "Año: 2021 - Trimestre: 4\n",
      "Aglomerado con mayor % de techo precario: Gran San Juan (10.63%)\n",
      "Aglomerado con menor % de techo precario: Ciudad Autónoma de Buenos Aires (0.15%)\n"
     ]
    }
   ],
   "source": [
    "aglomerados_por_techo_precario(archivo_hogares)"
   ]
  },
  {
   "cell_type": "markdown",
   "id": "009efa2f",
   "metadata": {},
   "source": [
    "**Inciso 12:** A partir de la información del último trimestre almacenado en el sistema se debe retornar para cada aglomerado el porcentaje de jubilados que vivan en una vivienda con CONDICION_HABITABILIDAD insuficiente. "
   ]
  },
  {
   "cell_type": "code",
   "execution_count": 14,
   "id": "5144d785",
   "metadata": {},
   "outputs": [
    {
     "name": "stdout",
     "output_type": "stream",
     "text": [
      "Aglomerado                                    | % Jubilados\n",
      "------------------------------------------------------------\n",
      "Gran Mendoza                                  |       0.00%\n",
      "Corrientes                                    |       0.00%\n",
      "Gran Córdoba                                  |       0.88%\n",
      "Concordia                                     |       0.00%\n",
      "Formosa                                       |       0.20%\n",
      "Neuquén-Plottier                              |       0.00%\n",
      "Santiago del Estero-La Banda                  |       1.20%\n",
      "Jujuy-Palpalá                                 |       0.95%\n",
      "Gran La Plata                                 |       0.55%\n",
      "Río Gallegos                                  |       0.00%\n",
      "Gran Catamarca                                |       1.06%\n",
      "Gran Salta                                    |       0.36%\n",
      "La Rioja                                      |       0.00%\n",
      "Gran San Luis                                 |       0.00%\n",
      "Gran San Juan                                 |       0.22%\n",
      "Gran Tucumán-Tafí Viejo                       |       0.81%\n",
      "Bahía Blanca-Cerri                            |       0.00%\n",
      "Santa Rosa-Toay                               |       0.00%\n",
      "Ushuaia-Río Grande                            |       0.00%\n",
      "Ciudad Autónoma de Buenos Aires               |       0.00%\n",
      "Partidos del Gran Buenos Aires                |       0.26%\n",
      "Mar del Plata                                 |       0.00%\n",
      "Río Cuarto                                    |       0.45%\n",
      "San Nicolás-Villa Constitución                |       0.63%\n",
      "Gran Rosario                                  |       0.37%\n",
      "Gran Santa Fe                                 |       0.00%\n",
      "Gran Paraná                                   |       0.00%\n",
      "Posadas                                       |       1.19%\n",
      "Gran Resistencia                              |       0.22%\n",
      "Comodoro Rivadavia-Rada Tilly                 |       0.00%\n",
      "Rawson-Trelew                                 |       0.00%\n",
      "Viedma-Carmen de Patagones                    |       0.00%\n"
     ]
    }
   ],
   "source": [
    "ultimo_periodo = obtener_ultimo_periodo(archivo_individuos)\n",
    "\n",
    "jubilados_hogar(archivo_individuos, archivo_hogares, ultimo_periodo[0], ultimo_periodo[1])"
   ]
  },
  {
   "cell_type": "markdown",
   "id": "185cbfcb",
   "metadata": {},
   "source": [
    "**Inciso 13:** Solicitar un año al usuario y a partir de la información del último trimestre de dicho ejercicio informar la cantidad de personas que hayan cursado nivel universitario o superior y que vivan en una vivienda con CONDICION_HABITABILIDAD insuficiente. "
   ]
  },
  {
   "cell_type": "code",
   "execution_count": null,
   "id": "c9ea14e3",
   "metadata": {},
   "outputs": [],
   "source": [
    "personas_universitarias_en_viviendas_insuficientes(archivo_individuos, archivo_hogares)"
   ]
  }
 ],
 "metadata": {
  "kernelspec": {
   "display_name": "venv",
   "language": "python",
   "name": "python3"
  },
  "language_info": {
   "codemirror_mode": {
    "name": "ipython",
    "version": 3
   },
   "file_extension": ".py",
   "mimetype": "text/x-python",
   "name": "python",
   "nbconvert_exporter": "python",
   "pygments_lexer": "ipython3",
   "version": "3.12.9"
  }
 },
 "nbformat": 4,
 "nbformat_minor": 5
}
